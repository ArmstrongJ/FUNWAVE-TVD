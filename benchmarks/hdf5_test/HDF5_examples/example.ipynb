{
 "cells": [
  {
   "cell_type": "code",
   "execution_count": 20,
   "metadata": {},
   "outputs": [],
   "source": [
    "import numpy as np\n",
    "import matplotlib.pyplot as plt\n",
    "import h5py"
   ]
  },
  {
   "cell_type": "code",
   "execution_count": 21,
   "metadata": {},
   "outputs": [],
   "source": [
    "f = h5py.File('test.h5')"
   ]
  },
  {
   "cell_type": "code",
   "execution_count": 22,
   "metadata": {},
   "outputs": [
    {
     "data": {
      "text/plain": [
       "<KeysViewHDF5 ['U', 'V']>"
      ]
     },
     "execution_count": 22,
     "metadata": {},
     "output_type": "execute_result"
    }
   ],
   "source": [
    "# list keys in the h5 file\n",
    "f.keys()"
   ]
  },
  {
   "cell_type": "code",
   "execution_count": 23,
   "metadata": {},
   "outputs": [
    {
     "name": "stdout",
     "output_type": "stream",
     "text": [
      "<KeysViewHDF5 ['t1']>\n",
      "<KeysViewHDF5 ['t2']>\n"
     ]
    }
   ],
   "source": [
    "# list keys in the h5 file at the second level\n",
    "print(f['U'].keys())\n",
    "print(f['V'].keys())"
   ]
  },
  {
   "cell_type": "code",
   "execution_count": 24,
   "metadata": {},
   "outputs": [
    {
     "name": "stdout",
     "output_type": "stream",
     "text": [
      "(8, 8)\n",
      "[[0. 0. 0. 0. 1. 1. 1. 1.]\n",
      " [0. 0. 0. 0. 1. 1. 1. 1.]\n",
      " [0. 0. 0. 0. 1. 1. 1. 1.]\n",
      " [0. 0. 0. 0. 1. 1. 1. 1.]\n",
      " [2. 2. 2. 2. 3. 3. 3. 3.]\n",
      " [2. 2. 2. 2. 3. 3. 3. 3.]\n",
      " [2. 2. 2. 2. 3. 3. 3. 3.]\n",
      " [2. 2. 2. 2. 3. 3. 3. 3.]]\n"
     ]
    }
   ],
   "source": [
    "# there is no third level, so data['U']['t1'] corresponds with the data\n",
    "data = np.array(f['U']['t1'])\n",
    "print(np.shape(data))\n",
    "print(data)"
   ]
  },
  {
   "cell_type": "code",
   "execution_count": 25,
   "metadata": {},
   "outputs": [
    {
     "data": {
      "image/png": "[encoded data removed]",
      "text/plain": [
       "<Figure size 432x288 with 1 Axes>"
      ]
     },
     "metadata": {
      "needs_background": "light"
     },
     "output_type": "display_data"
    }
   ],
   "source": [
    "plt.contourf(data)\n",
    "plt.show()"
   ]
  },
  {
   "cell_type": "code",
   "execution_count": 26,
   "metadata": {},
   "outputs": [
    {
     "name": "stdout",
     "output_type": "stream",
     "text": [
      "(9, 9)\n",
      "[[1. 1. 1. 1. 2. 2. 2. 2. 0.]\n",
      " [1. 1. 1. 1. 2. 2. 2. 2. 0.]\n",
      " [1. 1. 1. 1. 2. 2. 2. 2. 0.]\n",
      " [1. 1. 1. 1. 2. 2. 2. 2. 0.]\n",
      " [3. 3. 3. 3. 4. 4. 4. 4. 4.]\n",
      " [3. 3. 3. 3. 4. 4. 4. 4. 4.]\n",
      " [3. 3. 3. 3. 4. 4. 4. 4. 4.]\n",
      " [3. 3. 3. 3. 4. 4. 4. 4. 4.]\n",
      " [0. 0. 0. 0. 4. 4. 4. 4. 4.]]\n"
     ]
    }
   ],
   "source": [
    "data2 = np.array(f['V']['t2'])\n",
    "print(np.shape(data2))\n",
    "print(data2)"
   ]
  },
  {
   "cell_type": "code",
   "execution_count": 27,
   "metadata": {},
   "outputs": [
    {
     "data": {
      "image/png": "[encoded data removed]",
      "text/plain": [
       "<Figure size 432x288 with 1 Axes>"
      ]
     },
     "metadata": {
      "needs_background": "light"
     },
     "output_type": "display_data"
    }
   ],
   "source": [
    "plt.contourf(data2)\n",
    "plt.show()"
   ]
  },
  {
   "cell_type": "code",
   "execution_count": null,
   "metadata": {},
   "outputs": [],
   "source": []
  },
  {
   "cell_type": "code",
   "execution_count": null,
   "metadata": {},
   "outputs": [],
   "source": []
  }
 ],
 "metadata": {
  "kernelspec": {
   "display_name": "Python 3",
   "language": "python",
   "name": "python3"
  },
  "language_info": {
   "codemirror_mode": {
    "name": "ipython",
    "version": 3
   },
   "file_extension": ".py",
   "mimetype": "text/x-python",
   "name": "python",
   "nbconvert_exporter": "python",
   "pygments_lexer": "ipython3",
   "version": "3.7.3"
  }
 },
 "nbformat": 4,
 "nbformat_minor": 2
}
