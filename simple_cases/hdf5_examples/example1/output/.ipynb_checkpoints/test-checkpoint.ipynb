{
 "cells": [
  {
   "cell_type": "code",
   "execution_count": 3,
   "metadata": {},
   "outputs": [],
   "source": [
    "import numpy as np\n",
    "import matplotlib.pyplot as plt\n",
    "import h5py"
   ]
  },
  {
   "cell_type": "code",
   "execution_count": 4,
   "metadata": {},
   "outputs": [],
   "source": [
    "f = h5py.File('field.h5')"
   ]
  },
  {
   "cell_type": "code",
   "execution_count": 5,
   "metadata": {},
   "outputs": [
    {
     "data": {
      "text/plain": [
       "<KeysViewHDF5 ['breakwater', 'dep', 'eta', 'mask']>"
      ]
     },
     "execution_count": 5,
     "metadata": {},
     "output_type": "execute_result"
    }
   ],
   "source": [
    "# list keys in the h5 file\n",
    "f.keys()"
   ]
  },
  {
   "cell_type": "code",
   "execution_count": 6,
   "metadata": {},
   "outputs": [
    {
     "name": "stdout",
     "output_type": "stream",
     "text": [
      "<KeysViewHDF5 ['dx', 'dy', 'nx', 'ny', 'out_count', 'out_interval']>\n",
      "[19]\n"
     ]
    }
   ],
   "source": [
    "# list attriburtes(parameters) in the h5 file\n",
    "print(f.attrs.keys())\n",
    "print(f.attrs['out_count'])"
   ]
  },
  {
   "cell_type": "code",
   "execution_count": 7,
   "metadata": {},
   "outputs": [
    {
     "name": "stdout",
     "output_type": "stream",
     "text": [
      "<KeysViewHDF5 ['breakwater']>\n",
      "<KeysViewHDF5 ['depth']>\n",
      "<KeysViewHDF5 ['00000V', '00001V', '00002V', '00003V', '00004V', '00005V', '00006V', '00007V', '00008V', '00009V', '00010V', '00011V', '00012V', '00013V', '00014V', '00015V', '00016V', '00017V', '00018V', '00019V']>\n",
      "<KeysViewHDF5 ['00000V', '00001V', '00002V', '00003V', '00004V', '00005V', '00006V', '00007V', '00008V', '00009V', '00010V', '00011V', '00012V', '00013V', '00014V', '00015V', '00016V', '00017V', '00018V', '00019V']>\n"
     ]
    }
   ],
   "source": [
    "# list keys in the h5 file at the second level\n",
    "print(f['breakwater'].keys())\n",
    "print(f['dep'].keys())\n",
    "print(f['eta'].keys())\n",
    "print(f['mask'].keys())"
   ]
  },
  {
   "cell_type": "code",
   "execution_count": 9,
   "metadata": {},
   "outputs": [
    {
     "name": "stdout",
     "output_type": "stream",
     "text": [
      "(3, 1024)\n"
     ]
    },
    {
     "data": {
      "text/plain": [
       "[<matplotlib.lines.Line2D at 0x7f6bd0174e10>]"
      ]
     },
     "execution_count": 9,
     "metadata": {},
     "output_type": "execute_result"
    },
    {
     "data": {
      "image/png": "[encoded data removed]",
      "text/plain": [
       "<Figure size 432x288 with 1 Axes>"
      ]
     },
     "metadata": {
      "needs_background": "light"
     },
     "output_type": "display_data"
    }
   ],
   "source": [
    "data = np.array(f['eta']['00019V'])\n",
    "print(np.shape(data))\n",
    "plt.plot(data[1,:])"
   ]
  },
  {
   "cell_type": "code",
   "execution_count": null,
   "metadata": {},
   "outputs": [],
   "source": []
  }
 ],
 "metadata": {
  "kernelspec": {
   "display_name": "Python 3",
   "language": "python",
   "name": "python3"
  },
  "language_info": {
   "codemirror_mode": {
    "name": "ipython",
    "version": 3
   },
   "file_extension": ".py",
   "mimetype": "text/x-python",
   "name": "python",
   "nbconvert_exporter": "python",
   "pygments_lexer": "ipython3",
   "version": "3.7.4"
  }
 },
 "nbformat": 4,
 "nbformat_minor": 2
}
